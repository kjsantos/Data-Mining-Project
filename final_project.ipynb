{
 "cells": [
  {
   "cell_type": "code",
   "execution_count": 12,
   "metadata": {
    "collapsed": true
   },
   "outputs": [],
   "source": [
    "#cluster via longitude and latitude and restaurant type\n",
    "from matplotlib import pyplot as plt\n",
    "import matplotlib as mp\n",
    "import numpy as np\n",
    "import pandas as pd\n",
    "from sklearn.cluster import KMeans\n",
    "import sklearn.manifold\n",
    "from scipy import cluster\n",
    "import seaborn as sns\n",
    "import sklearn.datasets as sk_data\n",
    "import sklearn.metrics as metrics\n",
    "import requests\n",
    "import json\n",
    "import nltk.classify.util\n",
    "from nltk.classify import NaiveBayesClassifier\n",
    "from nltk.corpus import stopwords\n",
    "from nltk.stem.porter import PorterStemmer\n",
    "from nltk import word_tokenize\n",
    "import re\n",
    "%matplotlib inline"
   ]
  },
  {
   "cell_type": "code",
   "execution_count": 13,
   "metadata": {
    "collapsed": false
   },
   "outputs": [],
   "source": [
    "# response = requests.get('https://api.yelp.com/v2/search?term=food&location=San+Francisco')"
   ]
  },
  {
   "cell_type": "code",
   "execution_count": 14,
   "metadata": {
    "collapsed": false
   },
   "outputs": [],
   "source": [
    "# print(response)"
   ]
  },
  {
   "cell_type": "code",
   "execution_count": 15,
   "metadata": {
    "collapsed": true
   },
   "outputs": [],
   "source": [
    "# json_response = response.json()"
   ]
  },
  {
   "cell_type": "code",
   "execution_count": 16,
   "metadata": {
    "collapsed": false
   },
   "outputs": [],
   "source": [
    "# print(json.dumps(json_response, indent=2))"
   ]
  },
  {
   "cell_type": "code",
   "execution_count": 17,
   "metadata": {
    "collapsed": false
   },
   "outputs": [],
   "source": [
    "# df = pd.DataFrame.from_csv('Food_Establishment_Inspections.csv', index_col = None)"
   ]
  },
  {
   "cell_type": "code",
   "execution_count": 18,
   "metadata": {
    "collapsed": false
   },
   "outputs": [],
   "source": [
    "# df.head()"
   ]
  },
  {
   "cell_type": "code",
   "execution_count": 19,
   "metadata": {
    "collapsed": false
   },
   "outputs": [],
   "source": [
    "# df.shape"
   ]
  },
  {
   "cell_type": "code",
   "execution_count": 20,
   "metadata": {
    "collapsed": false
   },
   "outputs": [],
   "source": [
    "# len(df['BusinessName'].unique())"
   ]
  },
  {
   "cell_type": "code",
   "execution_count": 21,
   "metadata": {
    "collapsed": true
   },
   "outputs": [],
   "source": [
    "file = 'yelp_academic_dataset_business.json'\n",
    "data = []\n",
    "with open(file) as f:\n",
    "    for line in f:\n",
    "        data.append(json.loads(line))"
   ]
  },
  {
   "cell_type": "code",
   "execution_count": 22,
   "metadata": {
    "collapsed": true
   },
   "outputs": [],
   "source": [
    "# cities = ['Phoenix', 'Phoenix Sky Harbor Center', 'Phoenix Metro Area', 'phoenix', 'Phoenix ', 'Metro Phoenix', 'Phoenix-Ahwatukee', 'Phoenix, AZ']\n",
    "# filtered_city_data = []\n",
    "# for business in data:\n",
    "#     if business['city'] in cities:\n",
    "#         filtered_city_data.append(business)"
   ]
  },
  {
   "cell_type": "code",
   "execution_count": 24,
   "metadata": {
    "collapsed": true
   },
   "outputs": [],
   "source": [
    "# cities = []\n",
    "# for business in data:\n",
    "#     if business['city'] not in cities:\n",
    "#         cities.append(business['city'])"
   ]
  },
  {
   "cell_type": "code",
   "execution_count": 25,
   "metadata": {
    "collapsed": false
   },
   "outputs": [],
   "source": [
    "# len(filtered_city_data)"
   ]
  },
  {
   "cell_type": "code",
   "execution_count": 41,
   "metadata": {
    "collapsed": true
   },
   "outputs": [],
   "source": [
    "filtered_category_data = []\n",
    "restaurant_ids = []\n",
    "for business in data:\n",
    "    if 'Restaurants' in business['categories']:\n",
    "        filtered_category_data.append(business)\n",
    "        restaurant_ids.append(business['business_id'])"
   ]
  },
  {
   "cell_type": "code",
   "execution_count": 27,
   "metadata": {
    "collapsed": false
   },
   "outputs": [],
   "source": [
    "# # import collections\n",
    "# # restaurant_count = collections.defaultdict(int)\n",
    "# restaurant_count = {}\n",
    "\n",
    "# file = 'yelp_academic_dataset_business.json'\n",
    "# with open(file) as f:\n",
    "#     for line in f:\n",
    "#         r_line = json.loads(line)\n",
    "#         restaurant_count[r_line['city']] += 1"
   ]
  },
  {
   "cell_type": "code",
   "execution_count": 28,
   "metadata": {
    "collapsed": false
   },
   "outputs": [],
   "source": [
    "import collections\n",
    "restaurant_count = collections.defaultdict(int)\n",
    "# restaurant_count = {}\n",
    "\n",
    "# file = 'yelp_academic_dataset_business.json'\n",
    "# with open(file) as f:\n",
    "#     for line in f:\n",
    "for business in filtered_category_data:\n",
    "#     r_line = json.loads(line)\n",
    "    restaurant_count[business['city']] += 1"
   ]
  },
  {
   "cell_type": "code",
   "execution_count": 29,
   "metadata": {
    "collapsed": false
   },
   "outputs": [
    {
     "name": "stdout",
     "output_type": "stream",
     "text": [
      "{'Saint-Leonard': 13, 'Ft. Mill': 1, 'Terrebonne': 3, 'Swissvale': 3, 'Indian Trail': 24, 'La Prairie': 7, 'South Queensferry': 4, 'San Tan Valley': 27, 'St-Laurent': 1, 'Glendale': 522, 'Arlington': 1, 'Dollard-Des-Ormeaux': 25, 'Karlsbad': 5, 'Lower Lawrenceville': 1, 'rankin': 1, 'Concord Mills': 1, 'Kirkland': 14, 'Whitehall': 1, 'St. Agatha': 1, 'Enterprise': 1, 'Edinburgh': 1215, 'Sainte-Ann-De-Bellevue': 1, 'Phoenix': 2922, 'Stutensee-Blankenloch': 1, 'North Scottsdale': 1, 'Mount Washington': 1, 'Pittsburgh/Waterfront': 1, 'Juniper Green': 3, 'Queen Creek': 105, 'Montreal-West': 2, 'Stowe Township': 1, 'Ettlingen': 37, 'St Jacobs': 3, 'North Las Vegas': 240, 'Tonto Basin': 1, 'Glasgow': 1, 'Paradise Valley': 26, 'Champaign': 198, 'Neuburg am Rhein': 2, 'Millvale': 1, 'N Las Vegas': 8, 'Las Vegas': 4658, 'Matthews': 136, 'Boucherville': 1, 'Edgewood': 1, 'Sainte-Thérèse': 2, 'Gila Bend': 9, 'Sedona': 1, 'Charlotte': 1886, 'Paradise': 7, 'Boisbriand': 5, 'Lawrenceville': 1, 'Tega Cay': 8, 'Beaconsfield': 4, 'Carnegie': 24, 'Stallings': 8, 'Waterloo': 175, 'New Dundee': 1, 'Saint-Henri': 1, 'Dane': 1, 'Carefree': 21, 'Wickenburg': 40, 'Glendale Az': 1, 'Black Canyon City': 1, 'Conestogo': 2, 'Avondale': 129, 'Florence': 19, 'South Gyle': 1, 'Mount Lebanon': 7, 'Queen Valley': 1, 'Laval': 156, 'Sharpsburg': 3, 'Brentwood': 2, 'Communauté-Urbaine-de-Montréal': 1, 'Rio Verde': 1, 'Rosemère': 3, 'Pittsburrgh': 1, 'Mint Hill': 17, 'Saint-Lambert': 9, 'Regent Square': 1, 'Bridgeville': 5, 'Fort Mcdowell': 2, 'Bruchsal': 1, 'Middleton': 83, 'Saint-Eustache': 4, 'glendale': 1, 'Monroe': 1, 'Montreal': 41, 'Vimont': 3, 'Crafton': 3, 'Sun Lakes': 6, 'Central City': 1, 'Pineville': 42, 'Dravosburg': 2, 'Mesa AZ': 1, 'Peoria': 278, 'Leith': 2, 'Rock Hill': 1, 'Stoughton': 2, 'Tempe': 789, 'Homestead': 23, 'Concord': 71, 'Blainville': 2, 'Old Town': 4, 'Karlsruhe': 455, 'Dormont': 1, 'Green Tree': 1, 'Roxboro': 1, 'Arcadia': 1, 'Fort Mill': 105, 'Sun City West': 11, 'Balerno': 1, 'Henderson': 653, 'Bonnyrigg and Lasswade': 1, 'Cottage Grove': 6, 'Castle Shannon': 2, 'Pittsburgh': 1401, 'Pointe-Claire': 31, 'St. Jacobs': 1, 'Gold Canyon': 17, \"Baie-D'urfe\": 1, 'Phoenix Sky Harbor Center': 1, 'Wilkinsburg': 1, 'Stutensee': 5, 'Oakland': 1, 'DeForest': 6, 'Harrisburg': 13, 'Aspinwall': 5, 'City of Edinburgh': 1, 'Youngtown': 6, 'West Homestead': 6, 'Bocholt': 1, 'Dalkeith': 5, 'Summerlin South': 1, 'Mattews': 1, 'Tortilla Flat': 1, 'Madison': 806, 'Urbana': 99, 'Scottdale': 2, 'Central': 1, 'Jockgrim': 2, 'Kitchener': 142, 'Deforest': 1, 'Buckeye': 53, 'Lachine': 17, 'Tolleson': 27, 'Pheonix': 2, 'Verona': 24, 'Weingarten (Baden)': 3, 'Morristown': 2, 'Montréal-Nord': 2, 'Waunakee': 14, 'Ahwatukee': 4, 'Savoy': 3, 'Musselburgh': 8, 'Goodyear': 136, 'Mc Farland': 7, 'Westmount': 26, 'Montréal': 2291, 'North Queensferry': 1, 'Dorval': 25, 'Nellis AFB': 3, 'Bellevue': 14, 'Greenfield Park': 5, 'Dalgety Bay': 1, 'Saint-Laurent': 50, 'El Mirage': 18, 'Tonopah': 4, 'Boulder City': 11, 'Newbridge': 1, 'LaSalle': 1, 'Huntersville': 8, 'Belmont': 31, 'Clover': 2, 'Longueuil': 20, 'Inverkeithing': 1, 'Rheinstetten': 12, 'Spring Valley': 3, 'Heidelberg': 2, 'Laveen': 25, 'De Forest': 11, 'Mascouche': 1, 'Milton Bridge': 1, 'Montreal-Nord': 2, 'Cote-Saint-Luc': 2, 'Delmont': 1, 'Weingarten': 7, 'Casa Grande': 79, 'Ratho': 1, 'Clark': 1, 'Dollard-des-Ormeaux': 32, 'McFarland': 3, 'Apache Junction': 58, 'Wesley Chapel': 4, 'Bellvue': 1, 'Higley': 3, 'Hagenbach': 4, 'Nellis Afb': 1, 'Golden Square Mile': 1, 'St Leonard': 1, 'Fitchburg': 47, 'West Mifflin': 17, 'Maricopa': 57, 'Anjou': 6, 'Québec': 2, 'Las Vegas ': 2, 'Outremont': 21, 'McKees Rocks': 8, 'Wörth am Rhein': 7, \"L'Île-Bizard\": 2, 'Dollard-Des Ormeaux': 2, 'Mt. Oliver Boro': 1, 'Windsor': 3, 'Fabreville': 1, 'Monona': 39, 'Pittsburgh/S. Hills Galleria': 1, 'Verdun': 64, 'Saint-Hubert': 1, 'Pointe-Aux-Trembles': 3, 'Lasswade': 2, 'Mount Holly': 12, 'Bloomfield': 1, 'Durmersheim': 9, 'Gilbert': 399, 'Munhall': 9, 'Coolidge': 7, 'Anthem': 36, 'Saint-laurent': 2, 'Cave Creek': 69, 'Sainte-Genevieve': 1, 'Stockbridge': 1, 'Sun City': 35, 'Green Valley': 1, 'Dallas': 1, 'Montréal-Ouest': 1, 'Bonnyrigg': 1, 'Allentown': 1, 'Queensferry': 2, 'N. Las Vegas': 2, 'Cambridge': 3, 'Maricopa AZ': 1, 'Fort McDowell': 3, 'Waldbronn': 6, 'Eggenstein-Leopoldshafen': 11, 'Bietigheim': 3, 'Deux-Montagnes': 1, 'Mc Kees Rocks': 5, 'Sainte-Therese': 1, 'Mckees Rocks': 2, 'Lasalle': 28, 'Mesa': 870, 'Shadyside': 1, 'Saint Leonard': 1, 'Kahnawake': 1, 'Downtown': 1, 'Chandler': 645, 'Litchfield Park': 33, 'Pierrefonds': 15, 'Weddington': 1, 'Loanhead': 1, 'Rosemere': 2, 'Laveen Village': 1, 'New River': 4, 'NELLIS AFB': 1, 'Sainte-Anne-De-Bellevue': 6, 'Pfinztal': 8, 'Ste-Rose': 1, 'Guadalupe': 4, 'Central City Village': 1, 'Mcfarland': 1, 'McAdenville': 1, 'Lake Wylie': 4, 'Sainte-Anne-de-Bellevue': 2, 'New Town': 3, 'Scottsdale': 1177, 'Surprise': 163, 'Montéal': 1, 'South Mountain': 1, 'Sun Prairie': 55, 'Montreal-Est': 1, 'Indian Land': 3, 'Fountain Hills': 54, 'Mont-Royal': 7, 'Saint Laurent': 2, 'Brossard': 51, 'Squirrel Hill': 1, \"L'Île-des-Soeurs\": 1}\n"
     ]
    }
   ],
   "source": [
    "print(dict(restaurant_count))"
   ]
  },
  {
   "cell_type": "code",
   "execution_count": 30,
   "metadata": {
    "collapsed": false
   },
   "outputs": [
    {
     "data": {
      "text/plain": [
       "[('Las Vegas', 4658),\n",
       " ('Phoenix', 2922),\n",
       " ('Montréal', 2291),\n",
       " ('Charlotte', 1886),\n",
       " ('Pittsburgh', 1401),\n",
       " ('Edinburgh', 1215),\n",
       " ('Scottsdale', 1177),\n",
       " ('Mesa', 870),\n",
       " ('Madison', 806),\n",
       " ('Tempe', 789),\n",
       " ('Henderson', 653),\n",
       " ('Chandler', 645),\n",
       " ('Glendale', 522),\n",
       " ('Karlsruhe', 455),\n",
       " ('Gilbert', 399),\n",
       " ('Peoria', 278),\n",
       " ('North Las Vegas', 240),\n",
       " ('Champaign', 198),\n",
       " ('Waterloo', 175),\n",
       " ('Surprise', 163),\n",
       " ('Laval', 156),\n",
       " ('Kitchener', 142),\n",
       " ('Goodyear', 136),\n",
       " ('Matthews', 136),\n",
       " ('Avondale', 129),\n",
       " ('Queen Creek', 105),\n",
       " ('Fort Mill', 105),\n",
       " ('Urbana', 99),\n",
       " ('Middleton', 83),\n",
       " ('Casa Grande', 79),\n",
       " ('Concord', 71),\n",
       " ('Cave Creek', 69),\n",
       " ('Verdun', 64),\n",
       " ('Apache Junction', 58),\n",
       " ('Maricopa', 57),\n",
       " ('Sun Prairie', 55),\n",
       " ('Fountain Hills', 54),\n",
       " ('Buckeye', 53),\n",
       " ('Brossard', 51),\n",
       " ('Saint-Laurent', 50),\n",
       " ('Fitchburg', 47),\n",
       " ('Pineville', 42),\n",
       " ('Montreal', 41),\n",
       " ('Wickenburg', 40),\n",
       " ('Monona', 39),\n",
       " ('Ettlingen', 37),\n",
       " ('Anthem', 36),\n",
       " ('Sun City', 35),\n",
       " ('Litchfield Park', 33),\n",
       " ('Dollard-des-Ormeaux', 32),\n",
       " ('Belmont', 31),\n",
       " ('Pointe-Claire', 31),\n",
       " ('Lasalle', 28),\n",
       " ('Tolleson', 27),\n",
       " ('San Tan Valley', 27),\n",
       " ('Westmount', 26),\n",
       " ('Paradise Valley', 26),\n",
       " ('Dollard-Des-Ormeaux', 25),\n",
       " ('Dorval', 25),\n",
       " ('Laveen', 25),\n",
       " ('Indian Trail', 24),\n",
       " ('Verona', 24),\n",
       " ('Carnegie', 24),\n",
       " ('Homestead', 23),\n",
       " ('Outremont', 21),\n",
       " ('Carefree', 21),\n",
       " ('Longueuil', 20),\n",
       " ('Florence', 19),\n",
       " ('El Mirage', 18),\n",
       " ('Lachine', 17),\n",
       " ('West Mifflin', 17),\n",
       " ('Mint Hill', 17),\n",
       " ('Gold Canyon', 17),\n",
       " ('Pierrefonds', 15),\n",
       " ('Kirkland', 14),\n",
       " ('Bellevue', 14),\n",
       " ('Waunakee', 14),\n",
       " ('Saint-Leonard', 13),\n",
       " ('Harrisburg', 13),\n",
       " ('Rheinstetten', 12),\n",
       " ('Mount Holly', 12),\n",
       " ('Boulder City', 11),\n",
       " ('De Forest', 11),\n",
       " ('Eggenstein-Leopoldshafen', 11),\n",
       " ('Sun City West', 11),\n",
       " ('Gila Bend', 9),\n",
       " ('Saint-Lambert', 9),\n",
       " ('Munhall', 9),\n",
       " ('Durmersheim', 9),\n",
       " ('Musselburgh', 8),\n",
       " ('N Las Vegas', 8),\n",
       " ('Stallings', 8),\n",
       " ('McKees Rocks', 8),\n",
       " ('Huntersville', 8),\n",
       " ('Pfinztal', 8),\n",
       " ('Tega Cay', 8),\n",
       " ('La Prairie', 7),\n",
       " ('Mc Farland', 7),\n",
       " ('Mount Lebanon', 7),\n",
       " ('Weingarten', 7),\n",
       " ('Paradise', 7),\n",
       " ('Wörth am Rhein', 7),\n",
       " ('Coolidge', 7),\n",
       " ('Mont-Royal', 7),\n",
       " ('Anjou', 6),\n",
       " ('Waldbronn', 6),\n",
       " ('Sun Lakes', 6),\n",
       " ('Cottage Grove', 6),\n",
       " ('DeForest', 6),\n",
       " ('Sainte-Anne-De-Bellevue', 6),\n",
       " ('Youngtown', 6),\n",
       " ('West Homestead', 6),\n",
       " ('Karlsbad', 5),\n",
       " ('Greenfield Park', 5),\n",
       " ('Boisbriand', 5),\n",
       " ('Bridgeville', 5),\n",
       " ('Mc Kees Rocks', 5),\n",
       " ('Stutensee', 5),\n",
       " ('Aspinwall', 5),\n",
       " ('Dalkeith', 5),\n",
       " ('South Queensferry', 4),\n",
       " ('Ahwatukee', 4),\n",
       " ('Tonopah', 4),\n",
       " ('Wesley Chapel', 4),\n",
       " ('Old Town', 4),\n",
       " ('Saint-Eustache', 4),\n",
       " ('Lake Wylie', 4),\n",
       " ('Beaconsfield', 4),\n",
       " ('Hagenbach', 4),\n",
       " ('New River', 4),\n",
       " ('Guadalupe', 4),\n",
       " ('Terrebonne', 3),\n",
       " ('Savoy', 3),\n",
       " ('Nellis AFB', 3),\n",
       " ('Fort McDowell', 3),\n",
       " ('Bietigheim', 3),\n",
       " ('Juniper Green', 3),\n",
       " ('Spring Valley', 3),\n",
       " ('St Jacobs', 3),\n",
       " ('McFarland', 3),\n",
       " ('Weingarten (Baden)', 3),\n",
       " ('Higley', 3),\n",
       " ('Swissvale', 3),\n",
       " ('Windsor', 3),\n",
       " ('Pointe-Aux-Trembles', 3),\n",
       " ('Sharpsburg', 3),\n",
       " ('Rosemère', 3),\n",
       " ('Vimont', 3),\n",
       " ('Crafton', 3),\n",
       " ('Cambridge', 3),\n",
       " ('New Town', 3),\n",
       " ('Indian Land', 3),\n",
       " ('Jockgrim', 2),\n",
       " ('Pheonix', 2),\n",
       " ('Rosemere', 2),\n",
       " ('Morristown', 2),\n",
       " ('Clover', 2),\n",
       " ('Montreal-West', 2),\n",
       " ('Montreal-Nord', 2),\n",
       " ('Cote-Saint-Luc', 2),\n",
       " ('Saint-laurent', 2),\n",
       " ('Mckees Rocks', 2),\n",
       " ('Québec', 2),\n",
       " (\"L'Île-Bizard\", 2),\n",
       " ('Dollard-Des Ormeaux', 2),\n",
       " ('Heidelberg', 2),\n",
       " ('Conestogo', 2),\n",
       " ('Brentwood', 2),\n",
       " ('Las Vegas ', 2),\n",
       " ('Sainte-Anne-de-Bellevue', 2),\n",
       " ('Fort Mcdowell', 2),\n",
       " ('Queensferry', 2),\n",
       " ('N. Las Vegas', 2),\n",
       " ('Dravosburg', 2),\n",
       " ('Montréal-Nord', 2),\n",
       " ('Leith', 2),\n",
       " ('Stoughton', 2),\n",
       " ('Neuburg am Rhein', 2),\n",
       " ('Blainville', 2),\n",
       " ('Castle Shannon', 2),\n",
       " ('Lasswade', 2),\n",
       " ('Scottdale', 2),\n",
       " ('Saint Laurent', 2),\n",
       " ('Sainte-Thérèse', 2),\n",
       " ('Central', 1),\n",
       " ('St Leonard', 1),\n",
       " ('Ft. Mill', 1),\n",
       " ('Dalgety Bay', 1),\n",
       " ('LaSalle', 1),\n",
       " ('St-Laurent', 1),\n",
       " ('Arlington', 1),\n",
       " ('Newbridge', 1),\n",
       " ('Milton Bridge', 1),\n",
       " ('rankin', 1),\n",
       " ('Concord Mills', 1),\n",
       " ('Mesa AZ', 1),\n",
       " ('Bloomfield', 1),\n",
       " ('St. Agatha', 1),\n",
       " ('Enterprise', 1),\n",
       " ('Sainte-Ann-De-Bellevue', 1),\n",
       " ('Laveen Village', 1),\n",
       " ('Stutensee-Blankenloch', 1),\n",
       " ('Mount Washington', 1),\n",
       " ('Pittsburgh/Waterfront', 1),\n",
       " ('Inverkeithing', 1),\n",
       " ('Whitehall', 1),\n",
       " ('North Scottsdale', 1),\n",
       " ('Mascouche', 1),\n",
       " ('Delmont', 1),\n",
       " ('Deux-Montagnes', 1),\n",
       " ('Ratho', 1),\n",
       " ('Clark', 1),\n",
       " ('Arcadia', 1),\n",
       " ('Boucherville', 1),\n",
       " ('Oakland', 1),\n",
       " ('Downtown', 1),\n",
       " ('Edgewood', 1),\n",
       " ('Golden Square Mile', 1),\n",
       " ('Sedona', 1),\n",
       " ('Nellis Afb', 1),\n",
       " ('Lawrenceville', 1),\n",
       " ('New Dundee', 1),\n",
       " ('Mt. Oliver Boro', 1),\n",
       " ('Fabreville', 1),\n",
       " ('Mcfarland', 1),\n",
       " ('Black Canyon City', 1),\n",
       " ('Pittsburgh/S. Hills Galleria', 1),\n",
       " ('Saint-Hubert', 1),\n",
       " ('Deforest', 1),\n",
       " ('Phoenix Sky Harbor Center', 1),\n",
       " ('South Gyle', 1),\n",
       " ('Stowe Township', 1),\n",
       " ('Queen Valley', 1),\n",
       " ('Rio Verde', 1),\n",
       " ('Summerlin South', 1),\n",
       " ('Pittsburrgh', 1),\n",
       " ('Regent Square', 1),\n",
       " ('Bruchsal', 1),\n",
       " ('Mattews', 1),\n",
       " ('Sainte-Genevieve', 1),\n",
       " ('Lower Lawrenceville', 1),\n",
       " ('Monroe', 1),\n",
       " ('Dallas', 1),\n",
       " ('Montréal-Ouest', 1),\n",
       " ('Bonnyrigg', 1),\n",
       " ('Allentown', 1),\n",
       " ('Tonto Basin', 1),\n",
       " ('Maricopa AZ', 1),\n",
       " ('Rock Hill', 1),\n",
       " ('Balerno', 1),\n",
       " ('Sainte-Therese', 1),\n",
       " ('Millvale', 1),\n",
       " ('Shadyside', 1),\n",
       " ('North Queensferry', 1),\n",
       " ('Dormont', 1),\n",
       " ('Green Tree', 1),\n",
       " ('Roxboro', 1),\n",
       " ('Saint Leonard', 1),\n",
       " ('glendale', 1),\n",
       " ('Dane', 1),\n",
       " ('Weddington', 1),\n",
       " ('Bonnyrigg and Lasswade', 1),\n",
       " ('Kahnawake', 1),\n",
       " ('Stockbridge', 1),\n",
       " ('Loanhead', 1),\n",
       " ('Glasgow', 1),\n",
       " ('Communauté-Urbaine-de-Montréal', 1),\n",
       " ('Central City', 1),\n",
       " ('Ste-Rose', 1),\n",
       " ('St. Jacobs', 1),\n",
       " (\"Baie-D'urfe\", 1),\n",
       " ('Wilkinsburg', 1),\n",
       " ('Glendale Az', 1),\n",
       " ('Bellvue', 1),\n",
       " ('Saint-Henri', 1),\n",
       " ('City of Edinburgh', 1),\n",
       " ('Central City Village', 1),\n",
       " ('McAdenville', 1),\n",
       " ('NELLIS AFB', 1),\n",
       " ('Bocholt', 1),\n",
       " ('Tortilla Flat', 1),\n",
       " ('Green Valley', 1),\n",
       " ('Squirrel Hill', 1),\n",
       " ('South Mountain', 1),\n",
       " ('Montreal-Est', 1),\n",
       " ('Montéal', 1),\n",
       " (\"L'Île-des-Soeurs\", 1)]"
      ]
     },
     "execution_count": 30,
     "metadata": {},
     "output_type": "execute_result"
    }
   ],
   "source": [
    "sorted(restaurant_count.items(), key=lambda x:x[1], reverse=True)"
   ]
  },
  {
   "cell_type": "code",
   "execution_count": 31,
   "metadata": {
    "collapsed": false
   },
   "outputs": [
    {
     "data": {
      "text/plain": [
       "'Las Vegas'"
      ]
     },
     "execution_count": 31,
     "metadata": {},
     "output_type": "execute_result"
    }
   ],
   "source": [
    "max(restaurant_count, key=restaurant_count.get)"
   ]
  },
  {
   "cell_type": "code",
   "execution_count": 32,
   "metadata": {
    "collapsed": false
   },
   "outputs": [
    {
     "data": {
      "text/plain": [
       "4658"
      ]
     },
     "execution_count": 32,
     "metadata": {},
     "output_type": "execute_result"
    }
   ],
   "source": [
    "restaurant_count['Las Vegas']"
   ]
  },
  {
   "cell_type": "code",
   "execution_count": 33,
   "metadata": {
    "collapsed": false
   },
   "outputs": [],
   "source": [
    "# print(dict(restaurant_count))"
   ]
  },
  {
   "cell_type": "code",
   "execution_count": 34,
   "metadata": {
    "collapsed": false
   },
   "outputs": [],
   "source": [
    "# max(restaurant_count, key=restaurant_count.get)"
   ]
  },
  {
   "cell_type": "code",
   "execution_count": 35,
   "metadata": {
    "collapsed": false
   },
   "outputs": [],
   "source": [
    "# restaurant_count['Las Vegas']"
   ]
  },
  {
   "cell_type": "code",
   "execution_count": 36,
   "metadata": {
    "collapsed": false
   },
   "outputs": [],
   "source": [
    "# len(filtered_category_data)"
   ]
  },
  {
   "cell_type": "code",
   "execution_count": 37,
   "metadata": {
    "collapsed": false
   },
   "outputs": [],
   "source": [
    "# cities"
   ]
  },
  {
   "cell_type": "code",
   "execution_count": 38,
   "metadata": {
    "collapsed": false
   },
   "outputs": [],
   "source": [
    "# file = 'yelp_academic_dataset_review.json'\n",
    "# data = []\n",
    "# with open(file) as f:\n",
    "#     for line in f:\n",
    "#         data.append(json.loads(line))"
   ]
  },
  {
   "cell_type": "code",
   "execution_count": 39,
   "metadata": {
    "collapsed": true
   },
   "outputs": [],
   "source": [
    "file = 'yelp_academic_dataset_business.json'\n",
    "business_locations = {}\n",
    "with open(file) as f:\n",
    "    for line in f:\n",
    "        r_line = json.loads(line)\n",
    "        business_locations.update({r_line['business_id']:r_line['city']})"
   ]
  },
  {
   "cell_type": "code",
   "execution_count": 42,
   "metadata": {
    "collapsed": true
   },
   "outputs": [],
   "source": [
    "reviews_per_city = collections.defaultdict(int)\n",
    "\n",
    "file = 'yelp_academic_dataset_review.json'\n",
    "with open(file) as f:\n",
    "    for line in f:\n",
    "        r_line = json.loads(line)\n",
    "#         business_locations.update({r_line['business_id']:r_line['city']})\n",
    "        if r_line['business_id'] in restaurant_ids:\n",
    "            reviews_per_city[business_locations[r_line['business_id']]] += 1\n",
    "        \n",
    "# for business in filtered_category_data:\n",
    "# #     r_line = json.loads(line)\n",
    "#     restaurant_count[business['city']] += 1"
   ]
  },
  {
   "cell_type": "code",
   "execution_count": 44,
   "metadata": {
    "collapsed": false
   },
   "outputs": [
    {
     "name": "stdout",
     "output_type": "stream",
     "text": [
      "{'Saint-Leonard': 78, 'Ft. Mill': 41, 'Terrebonne': 16, 'Swissvale': 20, 'Indian Trail': 539, 'La Prairie': 39, 'South Queensferry': 22, 'San Tan Valley': 700, 'St-Laurent': 3, 'Glendale': 21951, 'Arlington': 7, 'Dollard-Des-Ormeaux': 206, 'Karlsbad': 10, 'Lower Lawrenceville': 171, 'rankin': 18, 'Concord Mills': 25, 'Kirkland': 74, 'Whitehall': 30, 'St. Agatha': 3, 'Enterprise': 49, 'Edinburgh': 14256, 'Sainte-Ann-De-Bellevue': 4, 'Phoenix': 188504, 'Stutensee-Blankenloch': 7, 'North Scottsdale': 124, 'Mount Washington': 11, 'Pittsburgh/Waterfront': 90, 'Juniper Green': 18, 'Queen Creek': 4145, 'Montreal-West': 8, 'Stowe Township': 10, 'Ettlingen': 156, 'St Jacobs': 19, 'North Las Vegas': 8705, 'Tonto Basin': 6, 'Glasgow': 3, 'Paradise Valley': 1237, 'Champaign': 7908, 'Neuburg am Rhein': 1, 'Millvale': 8, 'N Las Vegas': 104, 'Las Vegas': 501631, 'Matthews': 3514, 'Boucherville': 3, 'Edgewood': 4, 'Sainte-Thérèse': 8, 'Gila Bend': 218, 'Sedona': 89, 'Charlotte': 83674, 'Paradise': 76, 'Boisbriand': 19, 'Lawrenceville': 51, 'Tega Cay': 187, 'Carnegie': 486, 'Stallings': 148, 'Waterloo': 2353, 'New Dundee': 5, 'Saint-Henri': 8, 'Dane': 5, 'Carefree': 671, 'Wickenburg': 743, 'Glendale Az': 44, 'Black Canyon City': 339, 'Conestogo': 6, 'Avondale': 4738, 'Florence': 313, 'South Gyle': 4, 'Mount Lebanon': 202, 'Queen Valley': 3, 'Laval': 1136, 'Sharpsburg': 82, 'Brentwood': 11, 'Communauté-Urbaine-de-Montréal': 6, 'Rio Verde': 11, 'Rosemère': 10, 'Pittsburrgh': 12, 'Mint Hill': 301, 'Saint-Lambert': 41, 'Regent Square': 7, 'Bridgeville': 106, 'Fort Mcdowell': 4, 'Bruchsal': 5, 'Middleton': 2353, 'Saint-Eustache': 14, 'glendale': 28, 'Monroe': 5, 'Montreal': 785, 'Vimont': 18, 'Crafton': 31, 'Sun Lakes': 92, 'Central City': 3, 'Pineville': 1224, 'Dravosburg': 10, 'Mesa AZ': 4, 'Peoria': 10564, 'Leith': 25, 'Rock Hill': 9, 'Stoughton': 31, 'Tempe': 55273, 'Homestead': 950, 'Concord': 2036, 'Blainville': 7, 'Old Town': 19, 'Karlsruhe': 2350, 'Dormont': 21, 'Green Tree': 58, 'Roxboro': 4, 'Arcadia': 107, 'Fort Mill': 2073, 'Sun City West': 163, 'Balerno': 2, 'Henderson': 42144, 'Bonnyrigg and Lasswade': 4, 'Cottage Grove': 99, 'Castle Shannon': 11, 'Pittsburgh': 61849, 'Pointe-Claire': 315, 'St. Jacobs': 2, 'Gold Canyon': 274, \"Baie-D'urfe\": 3, 'Phoenix Sky Harbor Center': 2, 'Wilkinsburg': 13, 'Stutensee': 18, 'Oakland': 42, 'DeForest': 82, 'Harrisburg': 205, 'Aspinwall': 78, 'City of Edinburgh': 7, 'Youngtown': 87, 'West Homestead': 259, 'Bocholt': 2, 'Dalkeith': 20, 'Summerlin South': 3, 'Mattews': 8, 'Tortilla Flat': 78, 'Madison': 35290, 'Urbana': 3271, 'Scottdale': 183, 'Central': 10, 'Jockgrim': 4, 'Kitchener': 1341, 'Deforest': 2, 'Buckeye': 937, 'Lachine': 100, 'Tolleson': 559, 'Pheonix': 18, 'Verona': 489, 'Weingarten (Baden)': 2, 'Morristown': 38, 'Montréal-Nord': 21, 'Waunakee': 168, 'Ahwatukee': 411, 'Savoy': 28, 'Musselburgh': 19, 'Goodyear': 6452, 'Mc Farland': 112, 'Westmount': 294, 'Montréal': 45425, 'North Queensferry': 3, 'Dorval': 255, 'Nellis AFB': 24, 'Bellevue': 155, 'Greenfield Park': 41, 'Dalgety Bay': 3, 'Saint-Laurent': 404, 'El Mirage': 278, 'Tonopah': 35, 'Boulder City': 309, 'Newbridge': 5, 'LaSalle': 6, 'Huntersville': 265, 'Belmont': 671, 'Clover': 56, 'Longueuil': 96, 'Inverkeithing': 1, 'Rheinstetten': 16, 'Spring Valley': 25, 'Heidelberg': 16, 'Laveen': 466, 'De Forest': 109, 'Mascouche': 9, 'Milton Bridge': 2, 'Montreal-Nord': 18, 'Cote-Saint-Luc': 8, 'Delmont': 2, 'Weingarten': 17, 'Casa Grande': 1516, 'Ratho': 13, 'Clark': 10, 'Dollard-des-Ormeaux': 267, 'McFarland': 38, 'Apache Junction': 1170, 'Wesley Chapel': 101, 'Bellvue': 14, 'Higley': 54, 'Hagenbach': 1, 'Nellis Afb': 4, 'Golden Square Mile': 15, 'St Leonard': 4, 'Fitchburg': 1212, 'West Mifflin': 153, 'Maricopa': 1419, 'Anjou': 30, 'Québec': 12, 'Las Vegas ': 17, 'Outremont': 260, 'McKees Rocks': 70, 'Wörth am Rhein': 16, \"L'Île-Bizard\": 15, 'Dollard-Des Ormeaux': 11, 'Mt. Oliver Boro': 2, 'Windsor': 51, 'Fabreville': 4, 'Monona': 649, 'Pittsburgh/S. Hills Galleria': 37, 'Verdun': 664, 'Saint-Hubert': 3, 'Pointe-Aux-Trembles': 11, 'Lasswade': 14, 'Mount Holly': 115, 'Bloomfield': 3, 'Durmersheim': 13, 'Gilbert': 26624, 'Munhall': 81, 'Coolidge': 69, 'Anthem': 1296, 'Saint-laurent': 4, 'Cave Creek': 4013, 'Sainte-Genevieve': 5, 'Stockbridge': 18, 'Sun City': 657, 'Green Valley': 13, 'Dallas': 891, 'Montréal-Ouest': 29, 'Bonnyrigg': 3, 'Allentown': 14, 'Queensferry': 10, 'N. Las Vegas': 190, 'Cambridge': 23, 'Maricopa AZ': 21, 'Fort McDowell': 59, 'Waldbronn': 12, 'Eggenstein-Leopoldshafen': 38, 'Beaconsfield': 29, 'Deux-Montagnes': 4, 'Mc Kees Rocks': 39, 'Sainte-Therese': 4, 'Mckees Rocks': 11, 'Lasalle': 171, 'Mesa': 35362, 'Shadyside': 20, 'Saint Leonard': 3, 'Kahnawake': 3, 'Downtown': 27, 'Chandler': 37843, 'Litchfield Park': 1294, 'Pierrefonds': 119, 'Weddington': 19, 'Loanhead': 1, 'Rosemere': 11, 'Laveen Village': 8, 'New River': 83, 'NELLIS AFB': 20, 'Sainte-Anne-De-Bellevue': 30, 'Pfinztal': 30, 'Ste-Rose': 14, 'Guadalupe': 175, 'Central City Village': 11, 'Mcfarland': 3, 'McAdenville': 5, 'Lake Wylie': 180, 'Sainte-Anne-de-Bellevue': 17, 'New Town': 11, 'Scottsdale': 102557, 'Surprise': 6857, 'Montéal': 8, 'South Mountain': 3, 'Sun Prairie': 1216, 'Montreal-Est': 6, 'Indian Land': 68, 'Fountain Hills': 1602, 'Mont-Royal': 72, 'Saint Laurent': 15, 'Brossard': 273, 'Squirrel Hill': 5, \"L'Île-des-Soeurs\": 22}\n"
     ]
    }
   ],
   "source": [
    "print(dict(reviews_per_city))"
   ]
  },
  {
   "cell_type": "code",
   "execution_count": 45,
   "metadata": {
    "collapsed": false
   },
   "outputs": [
    {
     "data": {
      "text/plain": [
       "[('Las Vegas', 501631),\n",
       " ('Phoenix', 188504),\n",
       " ('Scottsdale', 102557),\n",
       " ('Charlotte', 83674),\n",
       " ('Pittsburgh', 61849),\n",
       " ('Tempe', 55273),\n",
       " ('Montréal', 45425),\n",
       " ('Henderson', 42144),\n",
       " ('Chandler', 37843),\n",
       " ('Mesa', 35362),\n",
       " ('Madison', 35290),\n",
       " ('Gilbert', 26624),\n",
       " ('Glendale', 21951),\n",
       " ('Edinburgh', 14256),\n",
       " ('Peoria', 10564),\n",
       " ('North Las Vegas', 8705),\n",
       " ('Champaign', 7908),\n",
       " ('Surprise', 6857),\n",
       " ('Goodyear', 6452),\n",
       " ('Avondale', 4738),\n",
       " ('Queen Creek', 4145),\n",
       " ('Cave Creek', 4013),\n",
       " ('Matthews', 3514),\n",
       " ('Urbana', 3271),\n",
       " ('Waterloo', 2353),\n",
       " ('Middleton', 2353),\n",
       " ('Karlsruhe', 2350),\n",
       " ('Fort Mill', 2073),\n",
       " ('Concord', 2036),\n",
       " ('Fountain Hills', 1602),\n",
       " ('Casa Grande', 1516),\n",
       " ('Maricopa', 1419),\n",
       " ('Kitchener', 1341),\n",
       " ('Anthem', 1296),\n",
       " ('Litchfield Park', 1294),\n",
       " ('Paradise Valley', 1237),\n",
       " ('Pineville', 1224),\n",
       " ('Sun Prairie', 1216),\n",
       " ('Fitchburg', 1212),\n",
       " ('Apache Junction', 1170),\n",
       " ('Laval', 1136),\n",
       " ('Homestead', 950),\n",
       " ('Buckeye', 937),\n",
       " ('Dallas', 891),\n",
       " ('Montreal', 785),\n",
       " ('Wickenburg', 743),\n",
       " ('San Tan Valley', 700),\n",
       " ('Belmont', 671),\n",
       " ('Carefree', 671),\n",
       " ('Verdun', 664),\n",
       " ('Sun City', 657),\n",
       " ('Monona', 649),\n",
       " ('Tolleson', 559),\n",
       " ('Indian Trail', 539),\n",
       " ('Verona', 489),\n",
       " ('Carnegie', 486),\n",
       " ('Laveen', 466),\n",
       " ('Ahwatukee', 411),\n",
       " ('Saint-Laurent', 404),\n",
       " ('Black Canyon City', 339),\n",
       " ('Pointe-Claire', 315),\n",
       " ('Florence', 313),\n",
       " ('Boulder City', 309),\n",
       " ('Mint Hill', 301),\n",
       " ('Westmount', 294),\n",
       " ('El Mirage', 278),\n",
       " ('Gold Canyon', 274),\n",
       " ('Brossard', 273),\n",
       " ('Dollard-des-Ormeaux', 267),\n",
       " ('Huntersville', 265),\n",
       " ('Outremont', 260),\n",
       " ('West Homestead', 259),\n",
       " ('Dorval', 255),\n",
       " ('Gila Bend', 218),\n",
       " ('Dollard-Des-Ormeaux', 206),\n",
       " ('Harrisburg', 205),\n",
       " ('Mount Lebanon', 202),\n",
       " ('N. Las Vegas', 190),\n",
       " ('Tega Cay', 187),\n",
       " ('Scottdale', 183),\n",
       " ('Lake Wylie', 180),\n",
       " ('Guadalupe', 175),\n",
       " ('Lower Lawrenceville', 171),\n",
       " ('Lasalle', 171),\n",
       " ('Waunakee', 168),\n",
       " ('Sun City West', 163),\n",
       " ('Ettlingen', 156),\n",
       " ('Bellevue', 155),\n",
       " ('West Mifflin', 153),\n",
       " ('Stallings', 148),\n",
       " ('North Scottsdale', 124),\n",
       " ('Pierrefonds', 119),\n",
       " ('Mount Holly', 115),\n",
       " ('Mc Farland', 112),\n",
       " ('De Forest', 109),\n",
       " ('Arcadia', 107),\n",
       " ('Bridgeville', 106),\n",
       " ('N Las Vegas', 104),\n",
       " ('Wesley Chapel', 101),\n",
       " ('Lachine', 100),\n",
       " ('Cottage Grove', 99),\n",
       " ('Longueuil', 96),\n",
       " ('Sun Lakes', 92),\n",
       " ('Pittsburgh/Waterfront', 90),\n",
       " ('Sedona', 89),\n",
       " ('Youngtown', 87),\n",
       " ('New River', 83),\n",
       " ('Sharpsburg', 82),\n",
       " ('DeForest', 82),\n",
       " ('Munhall', 81),\n",
       " ('Saint-Leonard', 78),\n",
       " ('Aspinwall', 78),\n",
       " ('Tortilla Flat', 78),\n",
       " ('Paradise', 76),\n",
       " ('Kirkland', 74),\n",
       " ('Mont-Royal', 72),\n",
       " ('McKees Rocks', 70),\n",
       " ('Coolidge', 69),\n",
       " ('Indian Land', 68),\n",
       " ('Fort McDowell', 59),\n",
       " ('Green Tree', 58),\n",
       " ('Clover', 56),\n",
       " ('Higley', 54),\n",
       " ('Lawrenceville', 51),\n",
       " ('Windsor', 51),\n",
       " ('Enterprise', 49),\n",
       " ('Glendale Az', 44),\n",
       " ('Oakland', 42),\n",
       " ('Ft. Mill', 41),\n",
       " ('Greenfield Park', 41),\n",
       " ('Saint-Lambert', 41),\n",
       " ('La Prairie', 39),\n",
       " ('Mc Kees Rocks', 39),\n",
       " ('Morristown', 38),\n",
       " ('McFarland', 38),\n",
       " ('Eggenstein-Leopoldshafen', 38),\n",
       " ('Pittsburgh/S. Hills Galleria', 37),\n",
       " ('Tonopah', 35),\n",
       " ('Crafton', 31),\n",
       " ('Stoughton', 31),\n",
       " ('Whitehall', 30),\n",
       " ('Anjou', 30),\n",
       " ('Sainte-Anne-De-Bellevue', 30),\n",
       " ('Pfinztal', 30),\n",
       " ('Montréal-Ouest', 29),\n",
       " ('Beaconsfield', 29),\n",
       " ('Savoy', 28),\n",
       " ('glendale', 28),\n",
       " ('Downtown', 27),\n",
       " ('Concord Mills', 25),\n",
       " ('Spring Valley', 25),\n",
       " ('Leith', 25),\n",
       " ('Nellis AFB', 24),\n",
       " ('Cambridge', 23),\n",
       " ('South Queensferry', 22),\n",
       " (\"L'Île-des-Soeurs\", 22),\n",
       " ('Maricopa AZ', 21),\n",
       " ('Montréal-Nord', 21),\n",
       " ('Dormont', 21),\n",
       " ('Swissvale', 20),\n",
       " ('Shadyside', 20),\n",
       " ('NELLIS AFB', 20),\n",
       " ('Dalkeith', 20),\n",
       " ('Musselburgh', 19),\n",
       " ('St Jacobs', 19),\n",
       " ('Boisbriand', 19),\n",
       " ('Old Town', 19),\n",
       " ('Weddington', 19),\n",
       " ('Pheonix', 18),\n",
       " ('rankin', 18),\n",
       " ('Juniper Green', 18),\n",
       " ('Montreal-Nord', 18),\n",
       " ('Vimont', 18),\n",
       " ('Stockbridge', 18),\n",
       " ('Stutensee', 18),\n",
       " ('Weingarten', 17),\n",
       " ('Las Vegas ', 17),\n",
       " ('Sainte-Anne-de-Bellevue', 17),\n",
       " ('Terrebonne', 16),\n",
       " ('Rheinstetten', 16),\n",
       " ('Wörth am Rhein', 16),\n",
       " ('Heidelberg', 16),\n",
       " ('Golden Square Mile', 15),\n",
       " (\"L'Île-Bizard\", 15),\n",
       " ('Saint Laurent', 15),\n",
       " ('Saint-Eustache', 14),\n",
       " ('Allentown', 14),\n",
       " ('Ste-Rose', 14),\n",
       " ('Bellvue', 14),\n",
       " ('Lasswade', 14),\n",
       " ('Ratho', 13),\n",
       " ('Wilkinsburg', 13),\n",
       " ('Durmersheim', 13),\n",
       " ('Green Valley', 13),\n",
       " ('Québec', 12),\n",
       " ('Waldbronn', 12),\n",
       " ('Pittsburrgh', 12),\n",
       " ('Rosemere', 11),\n",
       " ('Mount Washington', 11),\n",
       " ('Mckees Rocks', 11),\n",
       " ('Dollard-Des Ormeaux', 11),\n",
       " ('Pointe-Aux-Trembles', 11),\n",
       " ('Brentwood', 11),\n",
       " ('Rio Verde', 11),\n",
       " ('Castle Shannon', 11),\n",
       " ('New Town', 11),\n",
       " ('Central City Village', 11),\n",
       " ('Central', 10),\n",
       " ('Karlsbad', 10),\n",
       " ('Clark', 10),\n",
       " ('Stowe Township', 10),\n",
       " ('Rosemère', 10),\n",
       " ('Queensferry', 10),\n",
       " ('Dravosburg', 10),\n",
       " ('Mascouche', 9),\n",
       " ('Rock Hill', 9),\n",
       " ('Laveen Village', 8),\n",
       " ('Montreal-West', 8),\n",
       " ('Cote-Saint-Luc', 8),\n",
       " ('Mattews', 8),\n",
       " ('Millvale', 8),\n",
       " ('Saint-Henri', 8),\n",
       " ('Montéal', 8),\n",
       " ('Sainte-Thérèse', 8),\n",
       " ('Arlington', 7),\n",
       " ('Stutensee-Blankenloch', 7),\n",
       " ('Regent Square', 7),\n",
       " ('Blainville', 7),\n",
       " ('City of Edinburgh', 7),\n",
       " ('LaSalle', 6),\n",
       " ('Conestogo', 6),\n",
       " ('Tonto Basin', 6),\n",
       " ('Communauté-Urbaine-de-Montréal', 6),\n",
       " ('Montreal-Est', 6),\n",
       " ('Newbridge', 5),\n",
       " ('New Dundee', 5),\n",
       " ('Bruchsal', 5),\n",
       " ('Sainte-Genevieve', 5),\n",
       " ('Monroe', 5),\n",
       " ('Dane', 5),\n",
       " ('McAdenville', 5),\n",
       " ('Squirrel Hill', 5),\n",
       " ('Jockgrim', 4),\n",
       " ('St Leonard', 4),\n",
       " ('Mesa AZ', 4),\n",
       " ('Sainte-Ann-De-Bellevue', 4),\n",
       " ('Deux-Montagnes', 4),\n",
       " ('Saint-laurent', 4),\n",
       " ('Edgewood', 4),\n",
       " ('Nellis Afb', 4),\n",
       " ('Fabreville', 4),\n",
       " ('South Gyle', 4),\n",
       " ('Fort Mcdowell', 4),\n",
       " ('Sainte-Therese', 4),\n",
       " ('Roxboro', 4),\n",
       " ('Bonnyrigg and Lasswade', 4),\n",
       " ('Dalgety Bay', 3),\n",
       " ('St-Laurent', 3),\n",
       " ('Bloomfield', 3),\n",
       " ('St. Agatha', 3),\n",
       " ('Boucherville', 3),\n",
       " ('Mcfarland', 3),\n",
       " ('Saint-Hubert', 3),\n",
       " ('Queen Valley', 3),\n",
       " ('Summerlin South', 3),\n",
       " ('Bonnyrigg', 3),\n",
       " ('North Queensferry', 3),\n",
       " ('Saint Leonard', 3),\n",
       " ('Kahnawake', 3),\n",
       " ('Glasgow', 3),\n",
       " ('Central City', 3),\n",
       " (\"Baie-D'urfe\", 3),\n",
       " ('South Mountain', 3),\n",
       " ('Milton Bridge', 2),\n",
       " ('Delmont', 2),\n",
       " ('Weingarten (Baden)', 2),\n",
       " ('Mt. Oliver Boro', 2),\n",
       " ('Deforest', 2),\n",
       " ('Phoenix Sky Harbor Center', 2),\n",
       " ('Balerno', 2),\n",
       " ('St. Jacobs', 2),\n",
       " ('Bocholt', 2),\n",
       " ('Inverkeithing', 1),\n",
       " ('Neuburg am Rhein', 1),\n",
       " ('Hagenbach', 1),\n",
       " ('Loanhead', 1)]"
      ]
     },
     "execution_count": 45,
     "metadata": {},
     "output_type": "execute_result"
    }
   ],
   "source": [
    "sorted(reviews_per_city.items(), key=lambda x:x[1], reverse=True)"
   ]
  },
  {
   "cell_type": "code",
   "execution_count": null,
   "metadata": {
    "collapsed": true
   },
   "outputs": [],
   "source": []
  }
 ],
 "metadata": {
  "anaconda-cloud": {},
  "kernelspec": {
   "display_name": "Python [conda root]",
   "language": "python",
   "name": "conda-root-py"
  },
  "language_info": {
   "codemirror_mode": {
    "name": "ipython",
    "version": 3
   },
   "file_extension": ".py",
   "mimetype": "text/x-python",
   "name": "python",
   "nbconvert_exporter": "python",
   "pygments_lexer": "ipython3",
   "version": "3.5.2"
  }
 },
 "nbformat": 4,
 "nbformat_minor": 1
}
